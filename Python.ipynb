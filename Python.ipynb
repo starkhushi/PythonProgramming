{
  "nbformat": 4,
  "nbformat_minor": 0,
  "metadata": {
    "colab": {
      "provenance": []
    },
    "kernelspec": {
      "name": "python3",
      "display_name": "Python 3"
    },
    "language_info": {
      "name": "python"
    }
  },
  "cells": [
    {
      "cell_type": "markdown",
      "source": [
        "**PYTHON PROGRAMMING**"
      ],
      "metadata": {
        "id": "GV2SGQ8PBFVD"
      }
    },
    {
      "cell_type": "code",
      "source": [
        "print(\"hello my name is Khushi\")"
      ],
      "metadata": {
        "colab": {
          "base_uri": "https://localhost:8080/"
        },
        "id": "2UVZiudRoiZt",
        "outputId": "46f53ac8-416f-457e-d44f-a9ad7a0e1639"
      },
      "execution_count": null,
      "outputs": [
        {
          "output_type": "stream",
          "name": "stdout",
          "text": [
            "hello my name is Khushi\n"
          ]
        }
      ]
    },
    {
      "cell_type": "markdown",
      "source": [
        "**OPERATIONS**"
      ],
      "metadata": {
        "id": "CNGRaH6QpDtB"
      }
    },
    {
      "cell_type": "code",
      "source": [
        "a= 3\n",
        "b=4\n",
        "print(\"sum is\",a+b)"
      ],
      "metadata": {
        "colab": {
          "base_uri": "https://localhost:8080/"
        },
        "id": "bgv8iTPGoVHt",
        "outputId": "fe7544d0-36cc-4c3d-caf6-30cd7ba4370d"
      },
      "execution_count": null,
      "outputs": [
        {
          "output_type": "stream",
          "name": "stdout",
          "text": [
            "sum is 7\n"
          ]
        }
      ]
    },
    {
      "cell_type": "code",
      "source": [
        "print(\"diff is\",a-b)"
      ],
      "metadata": {
        "colab": {
          "base_uri": "https://localhost:8080/"
        },
        "id": "A0eZTI7DpILL",
        "outputId": "309ca0d9-3ba8-425b-d016-79164ca4201d"
      },
      "execution_count": null,
      "outputs": [
        {
          "output_type": "stream",
          "name": "stdout",
          "text": [
            "diff is -1\n"
          ]
        }
      ]
    },
    {
      "cell_type": "code",
      "source": [
        "print(\"multiply is\",a*b)"
      ],
      "metadata": {
        "colab": {
          "base_uri": "https://localhost:8080/"
        },
        "id": "4F63hDGWpTnJ",
        "outputId": "345c934b-3d4c-42e3-e2e8-1c9fd6ee5938"
      },
      "execution_count": null,
      "outputs": [
        {
          "output_type": "stream",
          "name": "stdout",
          "text": [
            "multiply is 12\n"
          ]
        }
      ]
    },
    {
      "cell_type": "code",
      "source": [
        "print(\"divide is \",a/b)"
      ],
      "metadata": {
        "colab": {
          "base_uri": "https://localhost:8080/"
        },
        "id": "Dcmh-A02pYx-",
        "outputId": "0dc34a15-c162-4b2b-99b4-53b84d747d72"
      },
      "execution_count": null,
      "outputs": [
        {
          "output_type": "stream",
          "name": "stdout",
          "text": [
            "divide is  0.75\n"
          ]
        }
      ]
    },
    {
      "cell_type": "code",
      "source": [
        "print(\"module is \",a%b)"
      ],
      "metadata": {
        "colab": {
          "base_uri": "https://localhost:8080/"
        },
        "id": "v9UYyYEvpcuG",
        "outputId": "f57b8012-0e6c-46ab-cd3a-3a7f4fe6d06e"
      },
      "execution_count": null,
      "outputs": [
        {
          "output_type": "stream",
          "name": "stdout",
          "text": [
            "module is  3\n"
          ]
        }
      ]
    },
    {
      "cell_type": "code",
      "source": [
        "# Equa;ity check\n",
        "a==3"
      ],
      "metadata": {
        "colab": {
          "base_uri": "https://localhost:8080/"
        },
        "id": "e_5lk0Maphny",
        "outputId": "92ef30ea-0bd8-48ec-ded5-ebbd96281ca0"
      },
      "execution_count": null,
      "outputs": [
        {
          "output_type": "execute_result",
          "data": {
            "text/plain": [
              "True"
            ]
          },
          "metadata": {},
          "execution_count": 9
        }
      ]
    },
    {
      "cell_type": "code",
      "source": [
        "a<4         #greater than"
      ],
      "metadata": {
        "colab": {
          "base_uri": "https://localhost:8080/"
        },
        "id": "hNyTWe7IpvaC",
        "outputId": "26dc6472-51e1-45d2-b768-e0e332003e5a"
      },
      "execution_count": null,
      "outputs": [
        {
          "output_type": "execute_result",
          "data": {
            "text/plain": [
              "True"
            ]
          },
          "metadata": {},
          "execution_count": 10
        }
      ]
    },
    {
      "cell_type": "code",
      "source": [
        "a>2               # less  than"
      ],
      "metadata": {
        "colab": {
          "base_uri": "https://localhost:8080/"
        },
        "id": "5WYQsGSep0TD",
        "outputId": "822af50a-aea0-4c86-c23b-200e153266d5"
      },
      "execution_count": null,
      "outputs": [
        {
          "output_type": "execute_result",
          "data": {
            "text/plain": [
              "True"
            ]
          },
          "metadata": {},
          "execution_count": 11
        }
      ]
    },
    {
      "cell_type": "code",
      "source": [
        "# LOGICAL OPEARTOR"
      ],
      "metadata": {
        "id": "iuz6pmAPp2KP"
      },
      "execution_count": null,
      "outputs": []
    },
    {
      "cell_type": "code",
      "source": [
        "a > 2 and a< 5"
      ],
      "metadata": {
        "colab": {
          "base_uri": "https://localhost:8080/"
        },
        "id": "kRIE-TYzqMpM",
        "outputId": "a57a3697-8dfb-4156-a924-211b174a603a"
      },
      "execution_count": null,
      "outputs": [
        {
          "output_type": "execute_result",
          "data": {
            "text/plain": [
              "True"
            ]
          },
          "metadata": {},
          "execution_count": 14
        }
      ]
    },
    {
      "cell_type": "code",
      "source": [
        "a > 1 or a>5"
      ],
      "metadata": {
        "colab": {
          "base_uri": "https://localhost:8080/"
        },
        "id": "p8uKUPXAqVXQ",
        "outputId": "5eaba93f-7769-49da-ad3c-16e45202dd05"
      },
      "execution_count": null,
      "outputs": [
        {
          "output_type": "execute_result",
          "data": {
            "text/plain": [
              "True"
            ]
          },
          "metadata": {},
          "execution_count": 15
        }
      ]
    },
    {
      "cell_type": "code",
      "source": [
        "a   != 4 or a<5"
      ],
      "metadata": {
        "colab": {
          "base_uri": "https://localhost:8080/"
        },
        "id": "-XwkGV8RqbQx",
        "outputId": "88b2a63c-d2af-4678-c224-8c5546869137"
      },
      "execution_count": null,
      "outputs": [
        {
          "output_type": "execute_result",
          "data": {
            "text/plain": [
              "True"
            ]
          },
          "metadata": {},
          "execution_count": 18
        }
      ]
    },
    {
      "cell_type": "markdown",
      "source": [
        "**DATA TYPES**"
      ],
      "metadata": {
        "id": "sh3YYSJThU61"
      }
    },
    {
      "cell_type": "code",
      "source": [
        "number = 3"
      ],
      "metadata": {
        "id": "k6gSm-lxqmDC"
      },
      "execution_count": null,
      "outputs": []
    },
    {
      "cell_type": "code",
      "source": [
        "type(number)"
      ],
      "metadata": {
        "colab": {
          "base_uri": "https://localhost:8080/"
        },
        "id": "8mG3SUayrNWo",
        "outputId": "4024d25f-0d47-4618-c405-b266b1f00bb8"
      },
      "execution_count": null,
      "outputs": [
        {
          "output_type": "execute_result",
          "data": {
            "text/plain": [
              "int"
            ]
          },
          "metadata": {},
          "execution_count": 24
        }
      ]
    },
    {
      "cell_type": "code",
      "source": [
        "float(number)"
      ],
      "metadata": {
        "colab": {
          "base_uri": "https://localhost:8080/"
        },
        "id": "03sZGQicrPwn",
        "outputId": "747a1d6e-0df6-4c91-d299-abdfae4f5506"
      },
      "execution_count": null,
      "outputs": [
        {
          "output_type": "execute_result",
          "data": {
            "text/plain": [
              "3.0"
            ]
          },
          "metadata": {},
          "execution_count": 25
        }
      ]
    },
    {
      "cell_type": "code",
      "source": [
        "type(45* 3.0)"
      ],
      "metadata": {
        "colab": {
          "base_uri": "https://localhost:8080/"
        },
        "id": "Kbchk2Tzrrds",
        "outputId": "d212be43-80a5-4216-d7b2-13e8c73ed0dd"
      },
      "execution_count": null,
      "outputs": [
        {
          "output_type": "execute_result",
          "data": {
            "text/plain": [
              "float"
            ]
          },
          "metadata": {},
          "execution_count": 29
        }
      ]
    },
    {
      "cell_type": "code",
      "source": [
        " a = 'my_name'\n",
        " print(a)"
      ],
      "metadata": {
        "colab": {
          "base_uri": "https://localhost:8080/"
        },
        "id": "C6_3w6jMsPHb",
        "outputId": "a0dcf497-d85c-4ff7-c52e-1efaa06317d1"
      },
      "execution_count": null,
      "outputs": [
        {
          "output_type": "stream",
          "name": "stdout",
          "text": [
            "my_name\n"
          ]
        }
      ]
    },
    {
      "cell_type": "markdown",
      "source": [
        "**LENGTH CHECK**"
      ],
      "metadata": {
        "id": "We7baFP7hHfO"
      }
    },
    {
      "cell_type": "code",
      "source": [
        "len(a)"
      ],
      "metadata": {
        "colab": {
          "base_uri": "https://localhost:8080/"
        },
        "id": "9Yg9bGaysjfX",
        "outputId": "702a0db0-b023-4098-c87a-e9e428edc7a9"
      },
      "execution_count": null,
      "outputs": [
        {
          "output_type": "execute_result",
          "data": {
            "text/plain": [
              "7"
            ]
          },
          "metadata": {},
          "execution_count": 39
        }
      ]
    },
    {
      "cell_type": "markdown",
      "source": [
        "**INDEX CHECKING**"
      ],
      "metadata": {
        "id": "YdVaVkkhg6tg"
      }
    },
    {
      "cell_type": "code",
      "source": [
        "a [0]"
      ],
      "metadata": {
        "colab": {
          "base_uri": "https://localhost:8080/",
          "height": 36
        },
        "id": "_bm0Nx2duDdc",
        "outputId": "d60651e7-a804-4ca8-e097-4a6424bfe9aa"
      },
      "execution_count": null,
      "outputs": [
        {
          "output_type": "execute_result",
          "data": {
            "text/plain": [
              "'m'"
            ],
            "application/vnd.google.colaboratory.intrinsic+json": {
              "type": "string"
            }
          },
          "metadata": {},
          "execution_count": 40
        }
      ]
    },
    {
      "cell_type": "code",
      "source": [
        "a[5:7]"
      ],
      "metadata": {
        "colab": {
          "base_uri": "https://localhost:8080/",
          "height": 36
        },
        "id": "i7M6x45quMBL",
        "outputId": "26f57759-cfab-4b98-b7f2-6840bc331d6e"
      },
      "execution_count": null,
      "outputs": [
        {
          "output_type": "execute_result",
          "data": {
            "text/plain": [
              "'me'"
            ],
            "application/vnd.google.colaboratory.intrinsic+json": {
              "type": "string"
            }
          },
          "metadata": {},
          "execution_count": 41
        }
      ]
    },
    {
      "cell_type": "code",
      "source": [
        "'name' in a"
      ],
      "metadata": {
        "colab": {
          "base_uri": "https://localhost:8080/"
        },
        "id": "He2xuwfhuS_d",
        "outputId": "337d56b2-0547-485e-f392-bce63da026fb"
      },
      "execution_count": null,
      "outputs": [
        {
          "output_type": "execute_result",
          "data": {
            "text/plain": [
              "True"
            ]
          },
          "metadata": {},
          "execution_count": 43
        }
      ]
    },
    {
      "cell_type": "code",
      "source": [
        "full_name = 'KHUSHI'\n",
        "branch = 'CSE(AI&ML)'"
      ],
      "metadata": {
        "id": "DcJuWRJ-ukbT"
      },
      "execution_count": null,
      "outputs": []
    },
    {
      "cell_type": "code",
      "source": [
        "full_name + branch"
      ],
      "metadata": {
        "colab": {
          "base_uri": "https://localhost:8080/",
          "height": 36
        },
        "id": "iB4UGkW2u5p7",
        "outputId": "23e4ced7-1843-4554-8256-169448b4ee3c"
      },
      "execution_count": null,
      "outputs": [
        {
          "output_type": "execute_result",
          "data": {
            "text/plain": [
              "'KHUSHICSE(AI&ML)'"
            ],
            "application/vnd.google.colaboratory.intrinsic+json": {
              "type": "string"
            }
          },
          "metadata": {},
          "execution_count": 45
        }
      ]
    },
    {
      "cell_type": "code",
      "source": [
        "full_name +  \" \" + branch"
      ],
      "metadata": {
        "colab": {
          "base_uri": "https://localhost:8080/",
          "height": 36
        },
        "id": "DJTi08rJu-n3",
        "outputId": "74c45318-393a-4b3b-e49e-d7b4bbe28b56"
      },
      "execution_count": null,
      "outputs": [
        {
          "output_type": "execute_result",
          "data": {
            "text/plain": [
              "'KHUSHI CSE(AI&ML)'"
            ],
            "application/vnd.google.colaboratory.intrinsic+json": {
              "type": "string"
            }
          },
          "metadata": {},
          "execution_count": 46
        }
      ]
    },
    {
      "cell_type": "code",
      "source": [
        "a.upper()"
      ],
      "metadata": {
        "colab": {
          "base_uri": "https://localhost:8080/",
          "height": 36
        },
        "id": "Lir0LIiGvMeG",
        "outputId": "aa9c7e0b-6f14-49f2-9771-2bee1a7e1b49"
      },
      "execution_count": null,
      "outputs": [
        {
          "output_type": "execute_result",
          "data": {
            "text/plain": [
              "'MY_NAME'"
            ],
            "application/vnd.google.colaboratory.intrinsic+json": {
              "type": "string"
            }
          },
          "metadata": {},
          "execution_count": 50
        }
      ]
    },
    {
      "cell_type": "code",
      "source": [
        "full_name.lower()"
      ],
      "metadata": {
        "colab": {
          "base_uri": "https://localhost:8080/",
          "height": 36
        },
        "id": "ll7E7H22vZQK",
        "outputId": "c20872e2-910d-400c-bbd0-3c2a05cf6d47"
      },
      "execution_count": null,
      "outputs": [
        {
          "output_type": "execute_result",
          "data": {
            "text/plain": [
              "'khushi'"
            ],
            "application/vnd.google.colaboratory.intrinsic+json": {
              "type": "string"
            }
          },
          "metadata": {},
          "execution_count": 49
        }
      ]
    },
    {
      "cell_type": "code",
      "source": [
        "\"KHUsHI\".capitalize()"
      ],
      "metadata": {
        "colab": {
          "base_uri": "https://localhost:8080/",
          "height": 36
        },
        "id": "5qi6kr0qvftH",
        "outputId": "f9dba135-40a1-4c57-e5cd-f566ca0ec47b"
      },
      "execution_count": null,
      "outputs": [
        {
          "output_type": "execute_result",
          "data": {
            "text/plain": [
              "'Khushi'"
            ],
            "application/vnd.google.colaboratory.intrinsic+json": {
              "type": "string"
            }
          },
          "metadata": {},
          "execution_count": 51
        }
      ]
    },
    {
      "cell_type": "code",
      "source": [
        "new = a.replace(\"my_name\",\"good_name\")"
      ],
      "metadata": {
        "id": "JZWXKAvRv7qN"
      },
      "execution_count": null,
      "outputs": []
    },
    {
      "cell_type": "code",
      "source": [
        "new"
      ],
      "metadata": {
        "colab": {
          "base_uri": "https://localhost:8080/",
          "height": 36
        },
        "id": "RdN4w0NHwMfU",
        "outputId": "eb461cb2-5e6f-49f0-defd-ed3d097fdcce"
      },
      "execution_count": null,
      "outputs": [
        {
          "output_type": "execute_result",
          "data": {
            "text/plain": [
              "'good_name'"
            ],
            "application/vnd.google.colaboratory.intrinsic+json": {
              "type": "string"
            }
          },
          "metadata": {},
          "execution_count": 53
        }
      ]
    },
    {
      "cell_type": "markdown",
      "source": [
        " **CALCULATOR**"
      ],
      "metadata": {
        "id": "9j2FAeOE1Tl_"
      }
    },
    {
      "cell_type": "code",
      "source": [
        "first = input(\"enter first number : \")\n",
        "second = input(\"enter second number: \")\n",
        "operator = input(\"enter operator (+,-,*,/,%) : \")\n",
        "first = int(first)\n",
        "second = int(second)\n",
        "if operator == \"+\":\n",
        "  print(first + second)\n",
        "elif operator == \"-\":\n",
        "  print(first - second)\n",
        "elif operator == \"*\":\n",
        "  print(first*second)\n",
        "elif operator == \"/\":\n",
        "   print(first / second)\n",
        "elif operator == \"%\":\n",
        "    print(first % second)\n",
        "else :\n",
        "  print(\"invlaid_statement\")\n"
      ],
      "metadata": {
        "colab": {
          "base_uri": "https://localhost:8080/"
        },
        "id": "7iZctPry1bf8",
        "outputId": "9f8bbe26-1dd4-4f11-9e11-414d7b69ab35"
      },
      "execution_count": null,
      "outputs": [
        {
          "output_type": "stream",
          "name": "stdout",
          "text": [
            "enter first number : 34\n",
            "enter second number: 56\n",
            "enter operator (+,-,*,/,%) : +\n",
            "90\n"
          ]
        }
      ]
    },
    {
      "cell_type": "markdown",
      "source": [
        "**LOOPS**"
      ],
      "metadata": {
        "id": "mCIZ7H6M4vv9"
      }
    },
    {
      "cell_type": "code",
      "source": [
        " i = 1\n",
        " while i<=5:\n",
        "  print(i* '*')\n",
        "  i=i+1"
      ],
      "metadata": {
        "colab": {
          "base_uri": "https://localhost:8080/"
        },
        "id": "zPvKRHPO2OsM",
        "outputId": "5d4a0f7e-c0e3-4025-9dd8-ba2716de3e64"
      },
      "execution_count": null,
      "outputs": [
        {
          "output_type": "stream",
          "name": "stdout",
          "text": [
            "*\n",
            "**\n",
            "***\n",
            "****\n",
            "*****\n"
          ]
        }
      ]
    },
    {
      "cell_type": "code",
      "source": [
        "while i >= 0:\n",
        "  print(i* \"*\")\n",
        "  i = i-1"
      ],
      "metadata": {
        "colab": {
          "base_uri": "https://localhost:8080/"
        },
        "id": "8ZHWjgWy4iVy",
        "outputId": "8f18dba9-c935-4fb5-ca15-a24d5346cbd5"
      },
      "execution_count": null,
      "outputs": [
        {
          "output_type": "stream",
          "name": "stdout",
          "text": [
            "******\n",
            "*****\n",
            "****\n",
            "***\n",
            "**\n",
            "*\n",
            "\n"
          ]
        }
      ]
    },
    {
      "cell_type": "code",
      "source": [
        "for i in range(9):\n",
        "  print(i)"
      ],
      "metadata": {
        "colab": {
          "base_uri": "https://localhost:8080/"
        },
        "id": "Pqxz5wkP6J-q",
        "outputId": "cb45c694-1d51-4600-c2ce-99dd51d487c4"
      },
      "execution_count": null,
      "outputs": [
        {
          "output_type": "stream",
          "name": "stdout",
          "text": [
            "0\n",
            "1\n",
            "2\n",
            "3\n",
            "4\n",
            "5\n",
            "6\n",
            "7\n",
            "8\n"
          ]
        }
      ]
    },
    {
      "cell_type": "code",
      "source": [
        "num  = int(input(\"Enter the number: \"))\n",
        "for i in range(1,11):\n",
        "  #print(str(num) + \"X\" + str(i) + \"=\" +str(i*num))\n",
        "  print(f\"{num}X{i}={num*i}\")"
      ],
      "metadata": {
        "colab": {
          "base_uri": "https://localhost:8080/"
        },
        "id": "rF_RgJH46XpB",
        "outputId": "f26c07be-e695-4fc1-9895-c8b1ed9f698e"
      },
      "execution_count": null,
      "outputs": [
        {
          "output_type": "stream",
          "name": "stdout",
          "text": [
            "ENter the number: 3\n",
            "3X1=3\n",
            "3X2=6\n",
            "3X3=9\n",
            "3X4=12\n",
            "3X5=15\n",
            "3X6=18\n",
            "3X7=21\n",
            "3X8=24\n",
            "3X9=27\n",
            "3X10=30\n"
          ]
        }
      ]
    },
    {
      "cell_type": "markdown",
      "source": [
        "**LIST**"
      ],
      "metadata": {
        "id": "qKw8kzng6ftx"
      }
    },
    {
      "cell_type": "code",
      "source": [
        "marks = [95,98,97,\"maths\"]\n",
        "print(marks)"
      ],
      "metadata": {
        "colab": {
          "base_uri": "https://localhost:8080/"
        },
        "id": "cukRYAX_6dsl",
        "outputId": "026cf9af-700a-4f99-dac4-fecf712c5b59"
      },
      "execution_count": null,
      "outputs": [
        {
          "output_type": "stream",
          "name": "stdout",
          "text": [
            "[95, 98, 97, 'maths']\n"
          ]
        }
      ]
    },
    {
      "cell_type": "code",
      "source": [
        "print(marks[1])"
      ],
      "metadata": {
        "colab": {
          "base_uri": "https://localhost:8080/"
        },
        "id": "ERpcMhq-6t4U",
        "outputId": "095ec800-52e8-4be9-f760-0e822c561973"
      },
      "execution_count": null,
      "outputs": [
        {
          "output_type": "stream",
          "name": "stdout",
          "text": [
            "98\n"
          ]
        }
      ]
    },
    {
      "cell_type": "code",
      "source": [
        "for score in marks :\n",
        "  print(marks)"
      ],
      "metadata": {
        "colab": {
          "base_uri": "https://localhost:8080/"
        },
        "id": "vaB7V9hL61vB",
        "outputId": "3db1ffbc-4a44-4b4d-f8ad-2d23051c8c41"
      },
      "execution_count": null,
      "outputs": [
        {
          "output_type": "stream",
          "name": "stdout",
          "text": [
            "[95, 98, 97, 'maths']\n",
            "[95, 98, 97, 'maths']\n",
            "[95, 98, 97, 'maths']\n",
            "[95, 98, 97, 'maths']\n"
          ]
        }
      ]
    },
    {
      "cell_type": "code",
      "source": [
        "marks.append(99)"
      ],
      "metadata": {
        "id": "wQZfQkrz7BLX"
      },
      "execution_count": null,
      "outputs": []
    },
    {
      "cell_type": "code",
      "source": [
        "m1 = int(input(\"Enter Maths Marks: \"))\n",
        "m2 = int(input(\"Enter Science Marks: \"))\n",
        "m3 = int(input(\"Enter G.K Marks: \"))\n",
        "marks = [m1 , m2, m3]\n",
        "marks.sort()\n",
        "print(marks)\n",
        "print(sum(marks))\n"
      ],
      "metadata": {
        "id": "GYklCMqoHFOc"
      },
      "execution_count": null,
      "outputs": []
    },
    {
      "cell_type": "code",
      "source": [
        "print(marks)\n"
      ],
      "metadata": {
        "colab": {
          "base_uri": "https://localhost:8080/"
        },
        "id": "LP9ktONF7Ilf",
        "outputId": "f7c1fa7d-e955-46b3-a363-b228cd50b667"
      },
      "execution_count": null,
      "outputs": [
        {
          "output_type": "stream",
          "name": "stdout",
          "text": [
            "[23, 45, 56]\n"
          ]
        }
      ]
    },
    {
      "cell_type": "code",
      "source": [
        "marks.insert(0,99)"
      ],
      "metadata": {
        "id": "IovK98Cu7Kxj"
      },
      "execution_count": null,
      "outputs": []
    },
    {
      "cell_type": "code",
      "source": [
        "print(99 in marks)"
      ],
      "metadata": {
        "colab": {
          "base_uri": "https://localhost:8080/"
        },
        "id": "lNysTQuW7agL",
        "outputId": "cb76e6cb-427a-4952-9e96-f701eac14543"
      },
      "execution_count": null,
      "outputs": [
        {
          "output_type": "stream",
          "name": "stdout",
          "text": [
            "True\n"
          ]
        }
      ]
    },
    {
      "cell_type": "code",
      "source": [
        "print(len(marks))"
      ],
      "metadata": {
        "colab": {
          "base_uri": "https://localhost:8080/"
        },
        "id": "eT6Qm7HY7epl",
        "outputId": "fb1db044-b038-49e4-c348-c550de5a5ebb"
      },
      "execution_count": null,
      "outputs": [
        {
          "output_type": "stream",
          "name": "stdout",
          "text": [
            "6\n"
          ]
        }
      ]
    },
    {
      "cell_type": "code",
      "source": [
        "i =0\n",
        "while i <len(marks):\n",
        "  print(marks[i])\n",
        "  i=i+1"
      ],
      "metadata": {
        "colab": {
          "base_uri": "https://localhost:8080/"
        },
        "id": "pKMnauOZ7hbV",
        "outputId": "870f07e2-2c51-4a60-eff3-ed7ac6f1807f"
      },
      "execution_count": null,
      "outputs": [
        {
          "output_type": "stream",
          "name": "stdout",
          "text": [
            "99\n",
            "95\n",
            "98\n",
            "97\n",
            "maths\n",
            "99\n"
          ]
        }
      ]
    },
    {
      "cell_type": "code",
      "source": [
        "marks.clear()"
      ],
      "metadata": {
        "id": "tzQm2OBG7t28"
      },
      "execution_count": null,
      "outputs": []
    },
    {
      "cell_type": "code",
      "source": [
        "stu = [\"ram\",\"roh\",\"don\",\"radha\"]\n",
        "for stu in stu:\n",
        "  if(stu== \"don\"):\n",
        "    break;\n",
        "  print(stu)"
      ],
      "metadata": {
        "colab": {
          "base_uri": "https://localhost:8080/"
        },
        "id": "m6P3AEzg71FT",
        "outputId": "a45dde05-142c-46e6-a47b-a24ff20b24c6"
      },
      "execution_count": null,
      "outputs": [
        {
          "output_type": "stream",
          "name": "stdout",
          "text": [
            "ram\n",
            "roh\n"
          ]
        }
      ]
    },
    {
      "cell_type": "code",
      "source": [],
      "metadata": {
        "id": "T7e3WjC-8Yoc"
      },
      "execution_count": null,
      "outputs": []
    },
    {
      "cell_type": "markdown",
      "source": [
        "**TUPLE = IMMUTABLE**"
      ],
      "metadata": {
        "id": "el36wmBL8e-c"
      }
    },
    {
      "cell_type": "code",
      "source": [
        "marks = (89,90,78,90,90)"
      ],
      "metadata": {
        "id": "IGZXRGZh8lXo"
      },
      "execution_count": null,
      "outputs": []
    },
    {
      "cell_type": "code",
      "source": [
        "print(marks.count(90))"
      ],
      "metadata": {
        "colab": {
          "base_uri": "https://localhost:8080/"
        },
        "id": "xS-scm-T8rBc",
        "outputId": "a5c0da5d-087e-4e1f-9bdf-9b2d5d0bbd8f"
      },
      "execution_count": null,
      "outputs": [
        {
          "output_type": "stream",
          "name": "stdout",
          "text": [
            "3\n"
          ]
        }
      ]
    },
    {
      "cell_type": "code",
      "source": [
        "print(marks.index(90))"
      ],
      "metadata": {
        "colab": {
          "base_uri": "https://localhost:8080/"
        },
        "id": "S_cH2kj282RN",
        "outputId": "b08423d4-a911-4aac-ce7e-afe1c2793335"
      },
      "execution_count": null,
      "outputs": [
        {
          "output_type": "stream",
          "name": "stdout",
          "text": [
            "1\n"
          ]
        }
      ]
    },
    {
      "cell_type": "code",
      "source": [],
      "metadata": {
        "id": "N9mMgYYL88-3"
      },
      "execution_count": null,
      "outputs": []
    },
    {
      "cell_type": "markdown",
      "source": [
        "**SETS**"
      ],
      "metadata": {
        "id": "_gJJL7bN9DOA"
      }
    },
    {
      "cell_type": "code",
      "source": [
        "marks ={ 67,90,89,90,90}\n",
        "print(marks)\n"
      ],
      "metadata": {
        "colab": {
          "base_uri": "https://localhost:8080/"
        },
        "id": "9kpUpBq_9Ft7",
        "outputId": "2002877b-b09f-4b4c-8dbf-fdde02119e3a"
      },
      "execution_count": null,
      "outputs": [
        {
          "output_type": "stream",
          "name": "stdout",
          "text": [
            "{89, 90, 67}\n"
          ]
        }
      ]
    },
    {
      "cell_type": "code",
      "source": [],
      "metadata": {
        "id": "8Il8hDN29YNB"
      },
      "execution_count": null,
      "outputs": []
    },
    {
      "cell_type": "markdown",
      "source": [
        "**DICTIONARY**"
      ],
      "metadata": {
        "id": "hiszmimD9dEv"
      }
    },
    {
      "cell_type": "code",
      "source": [
        "marks ={ \"english\" : 98, \"chemistry\" : 67}"
      ],
      "metadata": {
        "id": "AmBrx-Bo9gNf"
      },
      "execution_count": null,
      "outputs": []
    },
    {
      "cell_type": "code",
      "source": [
        "print(marks[\"chemistry\"])"
      ],
      "metadata": {
        "colab": {
          "base_uri": "https://localhost:8080/"
        },
        "id": "M1P0bPEh9xLR",
        "outputId": "2d5cc0fb-beed-4508-f72a-12d458724f34"
      },
      "execution_count": null,
      "outputs": [
        {
          "output_type": "stream",
          "name": "stdout",
          "text": [
            "67\n"
          ]
        }
      ]
    },
    {
      "cell_type": "code",
      "source": [
        "import math"
      ],
      "metadata": {
        "id": "8Z6twwMn918s"
      },
      "execution_count": null,
      "outputs": []
    },
    {
      "cell_type": "code",
      "source": [
        "print(dir(math))"
      ],
      "metadata": {
        "colab": {
          "base_uri": "https://localhost:8080/"
        },
        "id": "ZPWWQksd-k6Y",
        "outputId": "49af955e-1fac-4e20-c431-d39cda203a1e"
      },
      "execution_count": null,
      "outputs": [
        {
          "output_type": "stream",
          "name": "stdout",
          "text": [
            "['__doc__', '__loader__', '__name__', '__package__', '__spec__', 'acos', 'acosh', 'asin', 'asinh', 'atan', 'atan2', 'atanh', 'ceil', 'comb', 'copysign', 'cos', 'cosh', 'degrees', 'dist', 'e', 'erf', 'erfc', 'exp', 'expm1', 'fabs', 'factorial', 'floor', 'fmod', 'frexp', 'fsum', 'gamma', 'gcd', 'hypot', 'inf', 'isclose', 'isfinite', 'isinf', 'isnan', 'isqrt', 'lcm', 'ldexp', 'lgamma', 'log', 'log10', 'log1p', 'log2', 'modf', 'nan', 'nextafter', 'perm', 'pi', 'pow', 'prod', 'radians', 'remainder', 'sin', 'sinh', 'sqrt', 'tan', 'tanh', 'tau', 'trunc', 'ulp']\n"
          ]
        }
      ]
    },
    {
      "cell_type": "code",
      "source": [],
      "metadata": {
        "id": "cuh2Easn-oGV"
      },
      "execution_count": null,
      "outputs": []
    },
    {
      "cell_type": "markdown",
      "source": [
        "**FUNCTION**"
      ],
      "metadata": {
        "id": "zHfkhJkQ-tMq"
      }
    },
    {
      "cell_type": "code",
      "source": [
        "def print_sum(first,second):\n",
        "    print(first + second)\n"
      ],
      "metadata": {
        "id": "PuqN0I0m-wsZ"
      },
      "execution_count": null,
      "outputs": []
    },
    {
      "cell_type": "code",
      "source": [
        "print_sum(2,4)"
      ],
      "metadata": {
        "colab": {
          "base_uri": "https://localhost:8080/"
        },
        "id": "p-2iypmk_HYC",
        "outputId": "e1e43606-04de-4751-f3f8-1de2e0d966a7"
      },
      "execution_count": null,
      "outputs": [
        {
          "output_type": "stream",
          "name": "stdout",
          "text": [
            "6\n"
          ]
        }
      ]
    },
    {
      "cell_type": "code",
      "source": [
        "import os"
      ],
      "metadata": {
        "id": "6ilPZ505AFhg"
      },
      "execution_count": null,
      "outputs": []
    },
    {
      "cell_type": "code",
      "source": [],
      "metadata": {
        "id": "qJTRD0thAnMU"
      },
      "execution_count": null,
      "outputs": []
    }
  ]
}