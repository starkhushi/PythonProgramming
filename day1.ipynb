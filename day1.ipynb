{
  "cells": [
    {
      "cell_type": "code",
      "execution_count": null,
      "metadata": {
        "colab": {
          "base_uri": "https://localhost:8080/"
        },
        "id": "X3DLmJOKwAzT",
        "outputId": "63820d41-fdd0-44a1-d202-de3fc9e9dea8"
      },
      "outputs": [
        {
          "name": "stdout",
          "output_type": "stream",
          "text": [
            "Hello World\n"
          ]
        }
      ],
      "source": [
        "print(\"Hello World\")\n"
      ]
    },
    {
      "cell_type": "code",
      "execution_count": null,
      "metadata": {
        "colab": {
          "base_uri": "https://localhost:8080/"
        },
        "id": "lhQWwyZTwSlE",
        "outputId": "ffe28bce-fc77-489d-b7c1-21b04fd96ca1"
      },
      "outputs": [
        {
          "name": "stdout",
          "output_type": "stream",
          "text": [
            "hello world\n"
          ]
        }
      ],
      "source": [
        "message = \"hello world\"\n",
        "print(message)"
      ]
    },
    {
      "cell_type": "code",
      "execution_count": null,
      "metadata": {
        "id": "g_uBk3fkwvdV"
      },
      "outputs": [],
      "source": [
        "m = \"\"\"Bobby 's World was a good\n",
        "catrtoon in the 1999\"\"\""
      ]
    },
    {
      "cell_type": "code",
      "execution_count": null,
      "metadata": {
        "colab": {
          "base_uri": "https://localhost:8080/"
        },
        "id": "bUBHH3wGxx-2",
        "outputId": "c51f9b14-9d45-49f5-eb97-dd4d3ff4cb36"
      },
      "outputs": [
        {
          "name": "stdout",
          "output_type": "stream",
          "text": [
            "Bobby 's World was a good\n",
            "catrtoon in the 1999\n"
          ]
        }
      ],
      "source": [
        "print(m)"
      ]
    },
    {
      "cell_type": "code",
      "execution_count": null,
      "metadata": {
        "colab": {
          "base_uri": "https://localhost:8080/"
        },
        "id": "guMf8DSmx09q",
        "outputId": "f100fbb6-59ae-440f-b57f-4e74fcbc4e6c"
      },
      "outputs": [
        {
          "name": "stdout",
          "output_type": "stream",
          "text": [
            "11\n"
          ]
        }
      ],
      "source": [
        "print(len(message))"
      ]
    },
    {
      "cell_type": "code",
      "execution_count": null,
      "metadata": {
        "colab": {
          "base_uri": "https://localhost:8080/"
        },
        "id": "mZa6wksWyDTx",
        "outputId": "708bcae5-5fcf-42ff-8530-42d5826ce89a"
      },
      "outputs": [
        {
          "name": "stdout",
          "output_type": "stream",
          "text": [
            "d\n"
          ]
        }
      ],
      "source": [
        "print(message[10])"
      ]
    },
    {
      "cell_type": "code",
      "execution_count": null,
      "metadata": {
        "colab": {
          "background_save": true,
          "base_uri": "https://localhost:8080/"
        },
        "id": "n4WtQgyfyTQY",
        "outputId": "b0f41a00-ebee-433d-af05-f06e1d8a9c98"
      },
      "outputs": [
        {
          "name": "stdout",
          "output_type": "stream",
          "text": [
            "hello world\n"
          ]
        }
      ],
      "source": [
        "print(message[0:10])"
      ]
    },
    {
      "cell_type": "code",
      "execution_count": null,
      "metadata": {
        "id": "p0w4YgNCyb4c",
        "colab": {
          "base_uri": "https://localhost:8080/"
        },
        "outputId": "9ae1d605-6fa3-486f-ffc7-10c4a50ba5e7"
      },
      "outputs": [
        {
          "output_type": "stream",
          "name": "stdout",
          "text": [
            "['Maths', 'hist', 'phy', 'chem']\n"
          ]
        }
      ],
      "source": [
        "#list and touple\n",
        "c_1 = ['Maths', 'hist','phy','chem']\n",
        "print(c_1)"
      ]
    },
    {
      "cell_type": "code",
      "source": [
        "c_1.append('arts')"
      ],
      "metadata": {
        "id": "MQjg_c5eBY2H"
      },
      "execution_count": null,
      "outputs": []
    },
    {
      "cell_type": "code",
      "source": [
        "c_1.insert(0,'Eng')"
      ],
      "metadata": {
        "id": "4QQMsOTUCxqa"
      },
      "execution_count": null,
      "outputs": []
    },
    {
      "cell_type": "code",
      "source": [
        "c_2 = ['geo','comp']\n",
        "c_1.extend(c_2)"
      ],
      "metadata": {
        "id": "r9tk5DYZC5U3"
      },
      "execution_count": null,
      "outputs": []
    },
    {
      "cell_type": "code",
      "source": [
        "c_1.pop()\n",
        "print(c_1)"
      ],
      "metadata": {
        "colab": {
          "base_uri": "https://localhost:8080/"
        },
        "id": "XcOZt_52DpaI",
        "outputId": "2eb1b8cd-8721-448d-f6b4-fb7064160aea"
      },
      "execution_count": null,
      "outputs": [
        {
          "output_type": "stream",
          "name": "stdout",
          "text": [
            "['Eng', 'Maths', 'hist', 'phy', 'chem', 'arts', 'geo']\n"
          ]
        }
      ]
    },
    {
      "cell_type": "code",
      "source": [
        "c_1.reverse()"
      ],
      "metadata": {
        "id": "JaGN0aoyDyvc"
      },
      "execution_count": null,
      "outputs": []
    },
    {
      "cell_type": "code",
      "source": [
        "print(c_1)"
      ],
      "metadata": {
        "colab": {
          "base_uri": "https://localhost:8080/"
        },
        "id": "Dl3n1_-IEYkA",
        "outputId": "dbe460af-661a-4060-ce9b-fa94d350609b"
      },
      "execution_count": null,
      "outputs": [
        {
          "output_type": "stream",
          "name": "stdout",
          "text": [
            "['geo', 'arts', 'chem', 'phy', 'hist', 'Maths', 'Eng']\n"
          ]
        }
      ]
    },
    {
      "cell_type": "code",
      "source": [
        "c_1.sort()"
      ],
      "metadata": {
        "id": "v5SRKQCDEa-O"
      },
      "execution_count": null,
      "outputs": []
    },
    {
      "cell_type": "code",
      "source": [
        "print(c_1)"
      ],
      "metadata": {
        "colab": {
          "base_uri": "https://localhost:8080/"
        },
        "id": "xLIyCBgoEfrq",
        "outputId": "7cedd636-9214-42a9-daa9-2fe4935dcdc0"
      },
      "execution_count": null,
      "outputs": [
        {
          "output_type": "stream",
          "name": "stdout",
          "text": [
            "['Eng', 'Maths', 'arts', 'chem', 'geo', 'hist', 'phy']\n"
          ]
        }
      ]
    },
    {
      "cell_type": "code",
      "source": [
        "sorted_c_1 = sorted(c_1):\n",
        "print(sorted c_1)"
      ],
      "metadata": {
        "colab": {
          "base_uri": "https://localhost:8080/",
          "height": 135
        },
        "id": "rGPGrzlUEi8H",
        "outputId": "aa980e3c-2fee-4870-a615-385a9f6d6aa0"
      },
      "execution_count": null,
      "outputs": [
        {
          "output_type": "error",
          "ename": "SyntaxError",
          "evalue": "ignored",
          "traceback": [
            "\u001b[0;36m  File \u001b[0;32m\"<ipython-input-72-8954451feef1>\"\u001b[0;36m, line \u001b[0;32m1\u001b[0m\n\u001b[0;31m    sorted_c_1 = sorted(c_1):\u001b[0m\n\u001b[0m                            ^\u001b[0m\n\u001b[0;31mSyntaxError\u001b[0m\u001b[0;31m:\u001b[0m invalid syntax\n"
          ]
        }
      ]
    },
    {
      "cell_type": "code",
      "source": [
        "num = [1,2,4,9,6]\n",
        "num.sort()"
      ],
      "metadata": {
        "id": "jQKetZzQE-wZ"
      },
      "execution_count": null,
      "outputs": []
    },
    {
      "cell_type": "code",
      "source": [
        "print(sum(num))"
      ],
      "metadata": {
        "colab": {
          "base_uri": "https://localhost:8080/"
        },
        "id": "zIrdu3I4FheM",
        "outputId": "e779ce58-b5b0-4559-a619-2aca002f16ad"
      },
      "execution_count": null,
      "outputs": [
        {
          "output_type": "stream",
          "name": "stdout",
          "text": [
            "22\n"
          ]
        }
      ]
    },
    {
      "cell_type": "code",
      "source": [
        "print(num.index(1))"
      ],
      "metadata": {
        "colab": {
          "base_uri": "https://localhost:8080/"
        },
        "id": "mP0ASPnNFqUp",
        "outputId": "a096751f-aaaa-4d2b-826d-d2b134da754b"
      },
      "execution_count": null,
      "outputs": [
        {
          "output_type": "stream",
          "name": "stdout",
          "text": [
            "0\n"
          ]
        }
      ]
    },
    {
      "cell_type": "code",
      "source": [
        "print(c_1.index('Eng'))"
      ],
      "metadata": {
        "colab": {
          "base_uri": "https://localhost:8080/"
        },
        "id": "E7p3Fb7rF4Ot",
        "outputId": "6007d668-ae6c-4fcf-cc6d-898eaa2a41d2"
      },
      "execution_count": null,
      "outputs": [
        {
          "output_type": "stream",
          "name": "stdout",
          "text": [
            "0\n"
          ]
        }
      ]
    },
    {
      "cell_type": "code",
      "source": [
        "print('Math' in c_1)"
      ],
      "metadata": {
        "colab": {
          "base_uri": "https://localhost:8080/"
        },
        "id": "JU1mqobSGQF3",
        "outputId": "29b573d3-c16b-40a0-8e69-f5757260882f"
      },
      "execution_count": null,
      "outputs": [
        {
          "output_type": "stream",
          "name": "stdout",
          "text": [
            "False\n"
          ]
        }
      ]
    },
    {
      "cell_type": "code",
      "source": [
        "for item in c_1:\n",
        "  print(item)"
      ],
      "metadata": {
        "colab": {
          "base_uri": "https://localhost:8080/"
        },
        "id": "eMfqKuxqGboj",
        "outputId": "2a09ebab-d785-4eb9-8270-f516c2e31d18"
      },
      "execution_count": null,
      "outputs": [
        {
          "output_type": "stream",
          "name": "stdout",
          "text": [
            "Eng\n",
            "Maths\n",
            "arts\n",
            "chem\n",
            "geo\n",
            "hist\n",
            "phy\n"
          ]
        }
      ]
    },
    {
      "cell_type": "code",
      "source": [
        " for index, c_1 in enumerate(c_1):\n",
        "   print(index,c_1)"
      ],
      "metadata": {
        "colab": {
          "base_uri": "https://localhost:8080/"
        },
        "id": "Tg-m1IdMGo2h",
        "outputId": "e20e7eb8-ff92-4fc3-dd60-f9f267c0144d"
      },
      "execution_count": null,
      "outputs": [
        {
          "output_type": "stream",
          "name": "stdout",
          "text": [
            "0 Eng\n",
            "1 Maths\n",
            "2 arts\n",
            "3 chem\n",
            "4 geo\n",
            "5 hist\n",
            "6 phy\n"
          ]
        }
      ]
    },
    {
      "cell_type": "code",
      "source": [
        "c_3_str = ','.join(c_1)\n",
        "new_list = c_3_str.split(' -')\n",
        "print(c_3_str)\n",
        "print(new_list)\n"
      ],
      "metadata": {
        "colab": {
          "base_uri": "https://localhost:8080/"
        },
        "id": "Nlmn6t6aHHqE",
        "outputId": "886734f5-3de6-4f9c-f612-5e51a2ccf1d1"
      },
      "execution_count": null,
      "outputs": [
        {
          "output_type": "stream",
          "name": "stdout",
          "text": [
            "p,h,y\n",
            "['p,h,y']\n"
          ]
        }
      ]
    },
    {
      "cell_type": "code",
      "source": [
        "# dictionaries\n",
        "stu = {'name':'john','age':25,'courses':['maths','Science']}\n",
        "print(stu['courses'])"
      ],
      "metadata": {
        "colab": {
          "base_uri": "https://localhost:8080/"
        },
        "id": "AWoIm1oGH5ij",
        "outputId": "2dba9e73-63a0-45cd-dc4f-ce67ba8738f2"
      },
      "execution_count": null,
      "outputs": [
        {
          "output_type": "stream",
          "name": "stdout",
          "text": [
            "['maths', 'Science']\n"
          ]
        }
      ]
    },
    {
      "cell_type": "code",
      "source": [
        "stu['phone']=9090\n",
        "stu['name'] = 'jane'\n",
        "print(stu)"
      ],
      "metadata": {
        "colab": {
          "base_uri": "https://localhost:8080/"
        },
        "id": "GEbFTYsRJyUM",
        "outputId": "5a4a8bbe-0b1e-4155-bc6d-7af96a91ad08"
      },
      "execution_count": null,
      "outputs": [
        {
          "output_type": "stream",
          "name": "stdout",
          "text": [
            "{'name': 'jane', 'age': 25, 'courses': ['maths', 'Science'], 'phone': 9090}\n"
          ]
        }
      ]
    },
    {
      "cell_type": "code",
      "source": [
        "del stu['age']"
      ],
      "metadata": {
        "id": "r48aOZCRL8za"
      },
      "execution_count": null,
      "outputs": []
    },
    {
      "cell_type": "code",
      "source": [
        "print(stu)"
      ],
      "metadata": {
        "colab": {
          "base_uri": "https://localhost:8080/"
        },
        "id": "YI9w_q29MN_B",
        "outputId": "448a6d68-d321-4d44-d9a2-5ba54f53e49c"
      },
      "execution_count": null,
      "outputs": [
        {
          "output_type": "stream",
          "name": "stdout",
          "text": [
            "{'name': 'jane', 'courses': ['maths', 'Science'], 'phone': 9090}\n"
          ]
        }
      ]
    },
    {
      "cell_type": "code",
      "source": [
        "print(len(stu))"
      ],
      "metadata": {
        "colab": {
          "base_uri": "https://localhost:8080/"
        },
        "id": "vRV5O_soMQs2",
        "outputId": "2c591c2f-36c4-4140-9037-14f4161e25f1"
      },
      "execution_count": null,
      "outputs": [
        {
          "output_type": "stream",
          "name": "stdout",
          "text": [
            "3\n"
          ]
        }
      ]
    },
    {
      "cell_type": "code",
      "source": [
        "for key, value in stu.items():\n",
        "  print(key,value)"
      ],
      "metadata": {
        "colab": {
          "base_uri": "https://localhost:8080/"
        },
        "id": "qA9aHvotMeiv",
        "outputId": "bcf7a645-47fe-42fa-8b75-c1b369dda2e6"
      },
      "execution_count": null,
      "outputs": [
        {
          "output_type": "stream",
          "name": "stdout",
          "text": [
            "name jane\n",
            "courses ['maths', 'Science']\n",
            "phone 9090\n"
          ]
        }
      ]
    },
    {
      "cell_type": "code",
      "source": [],
      "metadata": {
        "id": "3QBkevrVNCxd"
      },
      "execution_count": null,
      "outputs": []
    }
  ],
  "metadata": {
    "colab": {
      "provenance": []
    },
    "kernelspec": {
      "display_name": "Python 3",
      "name": "python3"
    },
    "language_info": {
      "name": "python"
    }
  },
  "nbformat": 4,
  "nbformat_minor": 0
}