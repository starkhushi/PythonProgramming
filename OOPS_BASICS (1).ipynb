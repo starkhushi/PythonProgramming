{
  "nbformat": 4,
  "nbformat_minor": 0,
  "metadata": {
    "colab": {
      "provenance": []
    },
    "kernelspec": {
      "name": "python3",
      "display_name": "Python 3"
    },
    "language_info": {
      "name": "python"
    }
  },
  "cells": [
    {
      "cell_type": "markdown",
      "source": [
        "**OOPS BASICS**"
      ],
      "metadata": {
        "id": "kXyHMdEmjat3"
      }
    },
    {
      "cell_type": "code",
      "execution_count": 1,
      "metadata": {
        "id": "__H_IoRRQl_x"
      },
      "outputs": [],
      "source": [
        "class Employee:\n",
        "  company =\"Google\"\n",
        "  def getSalery(self):\n",
        "    print(f\"Salery is {self.salery}\" )\n",
        "  def greet(self):\n",
        "    print(\"good morning\")\n",
        "  @staticmethod\n",
        "  def time():\n",
        "    print(\"time is 9AM\")"
      ]
    },
    {
      "cell_type": "code",
      "source": [
        "harry = Employee()\n",
        "harry.salery = 1000\n",
        "Employee.getSalery(harry)\n",
        "harry.greet()\n",
        "harry.time()"
      ],
      "metadata": {
        "colab": {
          "base_uri": "https://localhost:8080/"
        },
        "id": "LCFP1UV3R-j6",
        "outputId": "a5ccc69b-9432-45e4-b3fb-83b552394fcc"
      },
      "execution_count": 2,
      "outputs": [
        {
          "output_type": "stream",
          "name": "stdout",
          "text": [
            "Salery is 1000\n",
            "good morning\n",
            "time is 9AM\n"
          ]
        }
      ]
    },
    {
      "cell_type": "code",
      "source": [
        " class fruits:\n",
        "  sweet = \"Mango\"\n",
        "  def fruitDetails(self):\n",
        "    print(\"This is a sweet fruit\")\n",
        "class color(fruits):\n",
        "  yellow = \"banana\"\n",
        "  def getcolor(self):\n",
        "      print(f\"The color is {self.color}\")\n",
        "e = fruits()\n",
        "e.fruitDetails()\n",
        "c = color()\n",
        "c.sweet"
      ],
      "metadata": {
        "colab": {
          "base_uri": "https://localhost:8080/",
          "height": 53
        },
        "id": "KVdP5kHnShma",
        "outputId": "5384050c-7a1e-4717-e20c-3a0200796228"
      },
      "execution_count": 4,
      "outputs": [
        {
          "output_type": "stream",
          "name": "stdout",
          "text": [
            "This is a sweet fruit\n"
          ]
        },
        {
          "output_type": "execute_result",
          "data": {
            "text/plain": [
              "'Mango'"
            ],
            "application/vnd.google.colaboratory.intrinsic+json": {
              "type": "string"
            }
          },
          "metadata": {},
          "execution_count": 4
        }
      ]
    },
    {
      "cell_type": "code",
      "source": [],
      "metadata": {
        "id": "tbn8AU4Bjgd1"
      },
      "execution_count": null,
      "outputs": []
    }
  ]
}