{
  "cells": [
    {
      "cell_type": "code",
      "execution_count": null,
      "metadata": {
        "colab": {
          "base_uri": "https://localhost:8080/"
        },
        "id": "1U73MNznKPMF",
        "outputId": "2f15f21f-8b2a-450b-b6fc-010704f71b71"
      },
      "outputs": [
        {
          "name": "stdout",
          "output_type": "stream",
          "text": [
            "[0, 1, 2, 3, 4, 5, 6, 7, 8, 9]\n"
          ]
        }
      ],
      "source": [
        "my_list = [0,1,2,3,4,5,6,7,8,9,]\n",
        "print(my_list)"
      ]
    },
    {
      "cell_type": "code",
      "execution_count": null,
      "metadata": {
        "colab": {
          "base_uri": "https://localhost:8080/"
        },
        "id": "QYqvcCanKlTS",
        "outputId": "6cb771ad-8302-4158-b26b-b602bbf1c788"
      },
      "outputs": [
        {
          "name": "stdout",
          "output_type": "stream",
          "text": [
            "9\n"
          ]
        }
      ],
      "source": [
        "print(my_list[-1])"
      ]
    },
    {
      "cell_type": "code",
      "execution_count": null,
      "metadata": {
        "colab": {
          "base_uri": "https://localhost:8080/"
        },
        "id": "dhfzYFm-K1Ko",
        "outputId": "80d2f7f6-c0ab-48b0-ec3d-c9c6dc29b61f"
      },
      "outputs": [
        {
          "name": "stdout",
          "output_type": "stream",
          "text": [
            "[2, 3, 4, 5, 6, 7, 8, 9]\n"
          ]
        }
      ],
      "source": [
        "print (my_list[2:])"
      ]
    },
    {
      "cell_type": "code",
      "execution_count": null,
      "metadata": {
        "colab": {
          "base_uri": "https://localhost:8080/"
        },
        "id": "jsrKYHsiLxf2",
        "outputId": "3981d873-faab-417b-bd60-3d47a35ca4e2"
      },
      "outputs": [
        {
          "name": "stdout",
          "output_type": "stream",
          "text": [
            "http://coreyms.com\n"
          ]
        }
      ],
      "source": [
        "sample_url = 'http://coreyms.com'\n",
        "print(sample_url)"
      ]
    },
    {
      "cell_type": "code",
      "execution_count": null,
      "metadata": {
        "colab": {
          "base_uri": "https://localhost:8080/"
        },
        "id": "rNYbbgNlMT10",
        "outputId": "8955f49c-ee7f-404a-91a7-01b4fbcb753f"
      },
      "outputs": [
        {
          "name": "stdout",
          "output_type": "stream",
          "text": [
            "[1, 2, 3, 4, 5, 6, 7, 8, 9, 10]\n"
          ]
        }
      ],
      "source": [
        "nums = [1,2,3,4,5,6,7,8,9,10]\n",
        "my_list = []\n",
        "for n in nums:\n",
        "  my_list.append(n)\n",
        "print(my_list)  "
      ]
    },
    {
      "cell_type": "code",
      "execution_count": null,
      "metadata": {
        "colab": {
          "base_uri": "https://localhost:8080/"
        },
        "id": "xCJSRCCSM9Aj",
        "outputId": "1aa74c6e-414c-4014-ce43-5cde2af1368c"
      },
      "outputs": [
        {
          "name": "stdout",
          "output_type": "stream",
          "text": [
            "[1, 2, 3, 4, 5, 6, 7, 8, 9, 10]\n"
          ]
        }
      ],
      "source": [
        "my_list =[n for n in nums]\n",
        "print(my_list)"
      ]
    },
    {
      "cell_type": "code",
      "execution_count": null,
      "metadata": {
        "colab": {
          "base_uri": "https://localhost:8080/"
        },
        "id": "eZSMV2jONbgJ",
        "outputId": "b82382ad-c1b2-4a85-bcdf-a1abcb656475"
      },
      "outputs": [
        {
          "name": "stdout",
          "output_type": "stream",
          "text": [
            "[1, 4, 9, 16, 25, 36, 49, 64, 81, 100]\n"
          ]
        }
      ],
      "source": [
        "nums = [1,2,3,4,5,6,7,8,9,10]\n",
        "my_list = []\n",
        "for n in nums:\n",
        "  my_list.append(n*n)\n",
        "print(my_list)  "
      ]
    },
    {
      "cell_type": "code",
      "execution_count": null,
      "metadata": {
        "colab": {
          "base_uri": "https://localhost:8080/"
        },
        "id": "DjSMYzCfNkTQ",
        "outputId": "1ace9e3d-ccfa-4f00-ba65-ed55a5dc35a4"
      },
      "outputs": [
        {
          "name": "stdout",
          "output_type": "stream",
          "text": [
            "[1, 4, 9, 16, 25, 36, 49, 64, 81, 100]\n"
          ]
        }
      ],
      "source": [
        "my_list =[n*n for n in nums]\n",
        "print(my_list)\n"
      ]
    },
    {
      "cell_type": "code",
      "execution_count": null,
      "metadata": {
        "colab": {
          "base_uri": "https://localhost:8080/"
        },
        "id": "pwrbp26DNxo0",
        "outputId": "840ac60c-3a0b-44b5-a6a6-48c13629bb72"
      },
      "outputs": [
        {
          "name": "stdout",
          "output_type": "stream",
          "text": [
            "[2, 4, 6, 8, 10]\n"
          ]
        }
      ],
      "source": [
        "my_list =[]\n",
        "for n in nums:\n",
        "  if n%2==0:\n",
        "    my_list.append(n)\n",
        "print(my_list)    "
      ]
    },
    {
      "cell_type": "code",
      "execution_count": null,
      "metadata": {
        "colab": {
          "base_uri": "https://localhost:8080/"
        },
        "id": "B5lbBWI6OQEt",
        "outputId": "dfa7685a-1d3d-46f9-ac87-76c2164cadb8"
      },
      "outputs": [
        {
          "name": "stdout",
          "output_type": "stream",
          "text": [
            "[2, 4, 6, 8, 10]\n"
          ]
        }
      ],
      "source": [
        "my_list = [n for n in nums if n%2==0]\n",
        "print(my_list)"
      ]
    },
    {
      "cell_type": "code",
      "execution_count": null,
      "metadata": {
        "colab": {
          "base_uri": "https://localhost:8080/"
        },
        "id": "LtO1A0VeOka3",
        "outputId": "34cfa2fc-b85a-40be-af22-01a10068c3b5"
      },
      "outputs": [
        {
          "name": "stdout",
          "output_type": "stream",
          "text": [
            "<filter object at 0x7f8f4ff29600>\n"
          ]
        }
      ],
      "source": [
        "my_list = filter(lambda n: n%2==0, nums)\n",
        "print(my_list)"
      ]
    },
    {
      "cell_type": "code",
      "execution_count": null,
      "metadata": {
        "colab": {
          "base_uri": "https://localhost:8080/"
        },
        "id": "uZKU1aJfO57y",
        "outputId": "230e33bf-3e43-42eb-fb6b-333def2bf9ee"
      },
      "outputs": [
        {
          "name": "stdout",
          "output_type": "stream",
          "text": [
            "[('a', 0), ('a', 1), ('a', 2), ('a', 3), ('b', 0), ('b', 1), ('b', 2), ('b', 3), ('c', 0), ('c', 1), ('c', 2), ('c', 3), ('d', 0), ('d', 1), ('d', 2), ('d', 3)]\n"
          ]
        }
      ],
      "source": [
        "my_list=[]\n",
        "for letter in 'abcd' :\n",
        "  for num in range(4):\n",
        "    my_list.append((letter,num))\n",
        "print(my_list)  "
      ]
    },
    {
      "cell_type": "code",
      "execution_count": null,
      "metadata": {
        "id": "oXYary7nPTqM"
      },
      "outputs": [],
      "source": [
        "my_list =[(letter,num) for letter in 'abcd' for num in range(4)]"
      ]
    },
    {
      "cell_type": "code",
      "execution_count": null,
      "metadata": {
        "colab": {
          "base_uri": "https://localhost:8080/"
        },
        "id": "7Xf9oiTPPtMW",
        "outputId": "7524538e-fff3-49a4-8b4e-8ddf1158d4e4"
      },
      "outputs": [
        {
          "name": "stdout",
          "output_type": "stream",
          "text": [
            "[('a', 0), ('a', 1), ('a', 2), ('a', 3), ('b', 0), ('b', 1), ('b', 2), ('b', 3), ('c', 0), ('c', 1), ('c', 2), ('c', 3), ('d', 0), ('d', 1), ('d', 2), ('d', 3)]\n"
          ]
        }
      ],
      "source": [
        "print(my_list)"
      ]
    },
    {
      "cell_type": "code",
      "execution_count": null,
      "metadata": {
        "colab": {
          "base_uri": "https://localhost:8080/"
        },
        "id": "ixKu7G1yP2sM",
        "outputId": "19944498-3d33-4d33-9d26-5296755c9b46"
      },
      "outputs": [
        {
          "name": "stdout",
          "output_type": "stream",
          "text": [
            "<zip object at 0x7f8f4ffe0940>\n"
          ]
        }
      ],
      "source": [
        "names =['bruce','clark','peter','logan','wade']\n",
        "heros = ['batman','superman','spiderman','wolverine','deadpool']\n",
        "print(zip(names,heros))"
      ]
    },
    {
      "cell_type": "code",
      "execution_count": null,
      "metadata": {
        "colab": {
          "base_uri": "https://localhost:8080/"
        },
        "id": "18KdXdwXQdG8",
        "outputId": "3a492f1c-5f1f-46b5-df02-e56b5e18f335"
      },
      "outputs": [
        {
          "name": "stdout",
          "output_type": "stream",
          "text": [
            "[('a', 0), ('a', 1), ('a', 2), ('a', 3), ('b', 0), ('b', 1), ('b', 2), ('b', 3), ('c', 0), ('c', 1), ('c', 2), ('c', 3), ('d', 0), ('d', 1), ('d', 2), ('d', 3)]\n"
          ]
        }
      ],
      "source": [
        "my_dict = {}\n",
        "for name,hero in zip(names,heros):\n",
        "  my_dict[name] = hero\n",
        "print(my_list)  "
      ]
    },
    {
      "cell_type": "code",
      "execution_count": null,
      "metadata": {
        "colab": {
          "background_save": true
        },
        "id": "rIYAJRF7RUXN",
        "outputId": "24f21cf2-8e43-41be-860b-8448c55db030"
      },
      "outputs": [
        {
          "name": "stdout",
          "output_type": "stream",
          "text": [
            "{'bruce': 'batman', 'clark': 'superman', 'peter': 'spiderman', 'logan': 'wolverine', 'wade': 'deadpool'}\n"
          ]
        }
      ],
      "source": [
        "my_dict = {name: hero for name, hero in zip (names, heros)if name }\n",
        "print(my_dict) \n"
      ]
    },
    {
      "cell_type": "code",
      "execution_count": null,
      "metadata": {
        "id": "J75hitzKYcOV"
      },
      "outputs": [],
      "source": []
    }
  ],
  "metadata": {
    "colab": {
      "provenance": []
    },
    "kernelspec": {
      "display_name": "Python 3",
      "name": "python3"
    },
    "language_info": {
      "name": "python"
    }
  },
  "nbformat": 4,
  "nbformat_minor": 0
}